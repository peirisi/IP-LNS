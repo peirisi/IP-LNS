{
 "cells": [
  {
   "cell_type": "code",
   "execution_count": 1,
   "metadata": {},
   "outputs": [],
   "source": [
    "import sys\n",
    "import os\n",
    "sys.path.append(os.getcwd()+'/..')\n",
    "from model.neighborhood_search import GNNPolicy\n",
    "from DATASET.neighborhood_search import GraphDataset\n",
    "from utilities import train_cl as train\n",
    "import torch\n",
    "import torch_geometric\n",
    "import os \n",
    "import time\n",
    "from torch.optim.lr_scheduler import CosineAnnealingLR"
   ]
  },
  {
   "cell_type": "code",
   "execution_count": 2,
   "metadata": {},
   "outputs": [],
   "source": [
    "#set folder\n",
    "instance = '8_std'\n",
    "model = 'neighborhood_search'\n",
    "uc_model = '3bin'\n",
    "\n",
    "model_save_path = f\"../model_save/{uc_model}_{instance}_{model}/\"\n",
    "log_save_path =   f\"../model_save/{uc_model}_{instance}_{model}_log/\"\n",
    "os.makedirs(model_save_path, exist_ok=True)\n",
    "os.makedirs(log_save_path, exist_ok=True)\n",
    "\n",
    "log_file = open(f'{log_save_path}train.log', 'wb')"
   ]
  },
  {
   "cell_type": "code",
   "execution_count": 3,
   "metadata": {},
   "outputs": [],
   "source": [
    "LEARNING_RATE = 1e-4\n",
    "NB_EPOCHS =50\n",
    "BATCH_SIZE = 1\n",
    "NUM_WORKERS = 2\n",
    "ETA_MIN=1e-5"
   ]
  },
  {
   "cell_type": "code",
   "execution_count": 4,
   "metadata": {},
   "outputs": [],
   "source": [
    "data_path= f'../datasets/{instance}/neighborhood/'\n",
    "\n",
    "train_data = GraphDataset(data_path+f'/train/{uc_model}/')\n",
    "valid_data = GraphDataset(data_path+f'/valid/{uc_model}/')\n",
    "train_iter = torch_geometric.loader.DataLoader(\n",
    "    train_data, batch_size = BATCH_SIZE, shuffle = True,\n",
    "    num_workers = NUM_WORKERS, pin_memory=True)\n",
    "valid_iter = torch_geometric.loader.DataLoader(\n",
    "    valid_data, batch_size = BATCH_SIZE, shuffle = False,\n",
    "    num_workers = NUM_WORKERS)"
   ]
  },
  {
   "cell_type": "code",
   "execution_count": 5,
   "metadata": {},
   "outputs": [],
   "source": [
    "# DEVICE = torch.device(\"cpu\")\n",
    "DEVICE = torch.device(\"cuda\" if torch.cuda.is_available() else \"cpu\")\n",
    "PredictModel = GNNPolicy().to(DEVICE)\n",
    "# if os.path.exists(model_save_path+'model_best.pth'):\n",
    "#     state_dict = torch.load(model_save_path+'model_best.pth')\n",
    "#     PredictModel.load_state_dict(state_dict,strict=False)\n",
    "#     print(\"\")"
   ]
  },
  {
   "cell_type": "code",
   "execution_count": 6,
   "metadata": {},
   "outputs": [
    {
     "name": "stdout",
     "output_type": "stream",
     "text": [
      "\n"
     ]
    }
   ],
   "source": [
    "def init_weights(m):\n",
    "    if type(m) == torch.nn.Linear:\n",
    "        torch.nn.init.xavier_uniform_(m.weight)\n",
    "        if m.bias is not None:\n",
    "            torch.nn.init.constant_(m.bias, 0)\n",
    "PredictModel.apply(init_weights)\n",
    "print()"
   ]
  },
  {
   "cell_type": "code",
   "execution_count": 7,
   "metadata": {},
   "outputs": [],
   "source": [
    "optimizer = torch.optim.AdamW(PredictModel.parameters(), lr=LEARNING_RATE,weight_decay=1e-6)\n",
    "scheduler = CosineAnnealingLR(optimizer, T_max=NB_EPOCHS//10, eta_min=ETA_MIN)\n",
    "best_val_loss = 10\n",
    "cur_epoch = 0"
   ]
  },
  {
   "cell_type": "code",
   "execution_count": 8,
   "metadata": {},
   "outputs": [
    {
     "name": "stdout",
     "output_type": "stream",
     "text": [
      "Epoch 0 Train loss: 2.423\tEpoch 1 Train loss: 1.756\tEpoch 2 Train loss: 1.713\tEpoch 3 Train loss: 1.284\tEpoch 4 Train loss: 1.113\tEpoch 5 Train loss: 1.073\tEpoch 6 Train loss: 1.060\tEpoch 7 Train loss: 1.080\tEpoch 8 Train loss: 1.234\tEpoch 9 Train loss: 1.172\tEpoch 10 Train loss: 1.127\tEpoch 11 Train loss: 1.104\tEpoch 12 Train loss: 1.088\tEpoch 13 Train loss: 1.071\tEpoch 14 Train loss: 1.062\tEpoch 15 Train loss: 1.050\tEpoch 16 Train loss: 1.052\tEpoch 17 Train loss: 1.076\tEpoch 18 Train loss: 1.076\tEpoch 19 Train loss: 1.080\tEpoch 20 Train loss: 1.071\tEpoch 21 Train loss: 1.074\tEpoch 22 Train loss: 1.083\tEpoch 23 Train loss: 1.055\tEpoch 24 Train loss: 1.031\tEpoch 25 Train loss: 1.027\tEpoch 26 Train loss: 1.027\tEpoch 27 Train loss: 1.025\tEpoch 28 Train loss: 1.093\tEpoch 29 Train loss: 1.030\tEpoch 30 Train loss: 1.128\tEpoch 31 Train loss: 1.111\tEpoch 32 Train loss: 1.088\tEpoch 33 Train loss: 1.052\tEpoch 34 Train loss: 1.034\tEpoch 35 Train loss: 1.028\tEpoch 36 Train loss: 1.029\tEpoch 37 Train loss: 1.034\tEpoch 38 Train loss: 1.044\tEpoch 39 Train loss: 1.039\tEpoch 40 Train loss: 1.037\tEpoch 41 Train loss: 1.006\tEpoch 42 Train loss: 1.056\tEpoch 43 Train loss: 1.017\tEpoch 44 Train loss: 1.007\tEpoch 45 Train loss: 1.002\tEpoch 46 Train loss: 1.002\tEpoch 47 Train loss: 1.015\tEpoch 48 Train loss: 1.013\tEpoch 49 Train loss: 1.023\tdone\n"
     ]
    }
   ],
   "source": [
    "for epoch in range(NB_EPOCHS):\n",
    "    begin=time.time()\n",
    "    cur_epoch+=1\n",
    "    train_loss = train(PredictModel, train_iter, DEVICE, optimizer)\n",
    "    print(f\"Epoch {epoch} Train loss: {train_loss:0.3f}\",end='\\t')\n",
    "    valid_loss = train(PredictModel, valid_iter, DEVICE, None)\n",
    "    print(f\"Epoch {epoch} Valid loss: {valid_loss:0.3f}\")\n",
    "    if valid_loss<best_val_loss:\n",
    "        cur_epoch=0\n",
    "        best_val_loss = valid_loss\n",
    "        print(\"best_loss\",best_val_loss)\n",
    "        torch.save(PredictModel.state_dict(),model_save_path+'model_best_con.pth')\n",
    "    if epoch%2==0:\n",
    "        torch.save(PredictModel.state_dict(),model_save_path+f'model_{epoch}.pth')\n",
    "    if cur_epoch>100:\n",
    "        break\n",
    "    date_str = time.strftime('%Y-%m-%d  %H:%M:%S', time.localtime())\n",
    "    st = f'@epoch{epoch}   Train loss:{train_loss}   Valid loss:{valid_loss}    TIME:{time.time()-begin}    DONE_TIME:{date_str}\\n'\n",
    "    log_file.write(st.encode())\n",
    "    log_file.flush()\n",
    "    scheduler.step()\n",
    "print('done')"
   ]
  }
 ],
 "metadata": {
  "kernelspec": {
   "display_name": "gat_uc",
   "language": "python",
   "name": "python3"
  },
  "language_info": {
   "codemirror_mode": {
    "name": "ipython",
    "version": 3
   },
   "file_extension": ".py",
   "mimetype": "text/x-python",
   "name": "python",
   "nbconvert_exporter": "python",
   "pygments_lexer": "ipython3",
   "version": "undefined.undefined.undefined"
  }
 },
 "nbformat": 4,
 "nbformat_minor": 2
}
